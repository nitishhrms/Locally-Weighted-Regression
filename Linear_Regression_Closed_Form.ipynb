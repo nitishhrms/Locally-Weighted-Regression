{
 "cells": [
  {
   "cell_type": "code",
   "execution_count": 6,
   "metadata": {},
   "outputs": [],
   "source": [
    "import numpy as np"
   ]
  },
  {
   "cell_type": "code",
   "execution_count": 62,
   "metadata": {},
   "outputs": [],
   "source": [
    "def getDataset(shape):\n",
    "    u = 5\n",
    "    sigma = 2\n",
    "    X = np.random.randn(shape[0])*sigma + u\n",
    "    e = np.random.randn(shape[0])\n",
    "    Y = 0.002*X + .005 + 0.0001*e\n",
    "    \n",
    "    return X,Y"
   ]
  },
  {
   "cell_type": "code",
   "execution_count": 63,
   "metadata": {},
   "outputs": [],
   "source": [
    "X,Y = getDataset((50,))"
   ]
  },
  {
   "cell_type": "code",
   "execution_count": 64,
   "metadata": {},
   "outputs": [
    {
     "name": "stdout",
     "output_type": "stream",
     "text": [
      "5.273809951860892\n",
      "1.8939872962140352\n"
     ]
    }
   ],
   "source": [
    "u = np.mean(X)\n",
    "sigma = np.std(X)\n",
    "print(u)\n",
    "print(sigma)"
   ]
  },
  {
   "cell_type": "code",
   "execution_count": 65,
   "metadata": {},
   "outputs": [],
   "source": [
    "X_New = (X-u)/sigma\n"
   ]
  },
  {
   "cell_type": "code",
   "execution_count": 68,
   "metadata": {},
   "outputs": [
    {
     "data": {
      "image/png": "[encoded data removed]",
      "text/plain": [
       "<Figure size 432x288 with 1 Axes>"
      ]
     },
     "metadata": {
      "needs_background": "light"
     },
     "output_type": "display_data"
    }
   ],
   "source": [
    "import matplotlib.pyplot as plt\n",
    "plt.scatter(X,Y)\n",
    "plt.scatter(X_New,Y)\n",
    "plt.show()"
   ]
  },
  {
   "cell_type": "code",
   "execution_count": 67,
   "metadata": {},
   "outputs": [
    {
     "data": {
      "image/png": "[encoded data removed]",
      "text/plain": [
       "<Figure size 432x288 with 1 Axes>"
      ]
     },
     "metadata": {
      "needs_background": "light"
     },
     "output_type": "display_data"
    }
   ],
   "source": [
    "plt.scatter(X_New,Y)\n",
    "plt.show()"
   ]
  },
  {
   "cell_type": "code",
   "execution_count": 69,
   "metadata": {},
   "outputs": [],
   "source": [
    "# Numpy Matrix"
   ]
  },
  {
   "cell_type": "code",
   "execution_count": 70,
   "metadata": {},
   "outputs": [],
   "source": [
    "import numpy as np"
   ]
  },
  {
   "cell_type": "code",
   "execution_count": 73,
   "metadata": {},
   "outputs": [
    {
     "name": "stdout",
     "output_type": "stream",
     "text": [
      "[[-0.54365511  0.88845321  0.76572812]\n",
      " [ 1.21012273 -1.04523403  1.21081256]\n",
      " [ 1.1347259  -0.79834521 -2.10313936]\n",
      " [-0.03820688 -0.66411644  0.66718723]\n",
      " [-0.81135875 -0.89577726 -0.20305395]]\n"
     ]
    }
   ],
   "source": [
    "m = np.random.randn(5,3)\n",
    "print(m)"
   ]
  },
  {
   "cell_type": "code",
   "execution_count": 74,
   "metadata": {},
   "outputs": [
    {
     "data": {
      "text/plain": [
       "array([[-0.54365511,  1.21012273,  1.1347259 , -0.03820688, -0.81135875],\n",
       "       [ 0.88845321, -1.04523403, -0.79834521, -0.66411644, -0.89577726],\n",
       "       [ 0.76572812,  1.21081256, -2.10313936,  0.66718723, -0.20305395]])"
      ]
     },
     "execution_count": 74,
     "metadata": {},
     "output_type": "execute_result"
    }
   ],
   "source": [
    "m.T #Transpose"
   ]
  },
  {
   "cell_type": "code",
   "execution_count": 75,
   "metadata": {},
   "outputs": [
    {
     "data": {
      "text/plain": [
       "array([[-0.01104735,  0.31888671,  0.19203482, -0.10554666, -0.47594544],\n",
       "       [ 0.21223897, -0.17180194, -0.05710442, -0.25374173, -0.46636512],\n",
       "       [ 0.0827047 ,  0.24934989, -0.2622078 ,  0.10801078, -0.05531412]])"
      ]
     },
     "execution_count": 75,
     "metadata": {},
     "output_type": "execute_result"
    }
   ],
   "source": [
    "np.linalg.pinv(m) #Inverse"
   ]
  },
  {
   "cell_type": "code",
   "execution_count": null,
   "metadata": {},
   "outputs": [],
   "source": [
    "np.dot(a,b) #Dot Product"
   ]
  },
  {
   "cell_type": "markdown",
   "metadata": {},
   "source": [
    "# Closed Form Solution"
   ]
  },
  {
   "cell_type": "code",
   "execution_count": 104,
   "metadata": {},
   "outputs": [
    {
     "data": {
      "image/png": "[encoded data removed]",
      "text/plain": [
       "<Figure size 432x288 with 1 Axes>"
      ]
     },
     "metadata": {
      "needs_background": "light"
     },
     "output_type": "display_data"
    },
    {
     "name": "stdout",
     "output_type": "stream",
     "text": [
      "(100, 1)\n"
     ]
    }
   ],
   "source": [
    "X = np.random.randn(100,1)\n",
    "\n",
    "e = np.random.randn(100,1)\n",
    "Y = 2*X + 5 + 0.3*e\n",
    "\n",
    "plt.scatter(X,Y)\n",
    "plt.xlabel(\"House Area\")\n",
    "plt.ylabel(\"Price\")\n",
    "plt.show()\n",
    "print(Y.shape)"
   ]
  },
  {
   "cell_type": "code",
   "execution_count": 99,
   "metadata": {},
   "outputs": [
    {
     "name": "stdout",
     "output_type": "stream",
     "text": [
      "[[ 1.          0.0403603 ]\n",
      " [ 1.          0.71564981]\n",
      " [ 1.         -1.39466687]\n",
      " [ 1.          0.74448712]\n",
      " [ 1.         -0.11931048]]\n"
     ]
    }
   ],
   "source": [
    "X = X.reshape((-1,1))\n",
    "ones = np.ones((X.shape[0],1))\n",
    "\n",
    "X = np.hstack((ones,X))\n",
    "print(X[:5,:])"
   ]
  },
  {
   "cell_type": "code",
   "execution_count": 89,
   "metadata": {},
   "outputs": [],
   "source": [
    "theta = np.dot(np.linalg.pinv(np.dot(X.T,X)),np.dot(X.T,Y))"
   ]
  },
  {
   "cell_type": "code",
   "execution_count": 90,
   "metadata": {},
   "outputs": [
    {
     "name": "stdout",
     "output_type": "stream",
     "text": [
      "[4.95620341 1.00762151 1.00762151]\n"
     ]
    }
   ],
   "source": [
    "print(theta)"
   ]
  },
  {
   "cell_type": "markdown",
   "metadata": {},
   "source": [
    "## Library for ML Algorithms"
   ]
  },
  {
   "cell_type": "code",
   "execution_count": 91,
   "metadata": {},
   "outputs": [
    {
     "name": "stdout",
     "output_type": "stream",
     "text": [
      "Collecting sklearn\n",
      "  Downloading https://files.pythonhosted.org/packages/1e/7a/dbb3be0ce9bd5c8b7e3d87328e79063f8b263b2b1bfa4774cb1147bfcd3f/sklearn-0.0.tar.gz\n",
      "Collecting scikit-learn (from sklearn)\n",
      "  Downloading https://files.pythonhosted.org/packages/75/14/fde90de4fc6722303ddbc183ec253c288dae8c7e4eb5a069ac49f14c9a0f/scikit_learn-0.21.2-cp37-cp37m-win_amd64.whl (5.9MB)\n",
      "Requirement already satisfied: numpy>=1.11.0 in c:\\python\\lib\\site-packages (from scikit-learn->sklearn) (1.16.3)\n",
      "Collecting scipy>=0.17.0 (from scikit-learn->sklearn)\n",
      "  Downloading https://files.pythonhosted.org/packages/53/17/9dfd64540b6645fae581462ed2d1c8e680b7e946ca2789c5149693660392/scipy-1.3.0-cp37-cp37m-win_amd64.whl (30.3MB)\n",
      "Collecting joblib>=0.11 (from scikit-learn->sklearn)\n",
      "  Downloading https://files.pythonhosted.org/packages/cd/c1/50a758e8247561e58cb87305b1e90b171b8c767b15b12a1734001f41d356/joblib-0.13.2-py2.py3-none-any.whl (278kB)\n",
      "Installing collected packages: scipy, joblib, scikit-learn, sklearn\n",
      "  Running setup.py install for sklearn: started\n",
      "    Running setup.py install for sklearn: finished with status 'done'\n",
      "Successfully installed joblib-0.13.2 scikit-learn-0.21.2 scipy-1.3.0 sklearn-0.0\n"
     ]
    },
    {
     "name": "stderr",
     "output_type": "stream",
     "text": [
      "You are using pip version 19.0.3, however version 19.1.1 is available.\n",
      "You should consider upgrading via the 'python -m pip install --upgrade pip' command.\n"
     ]
    }
   ],
   "source": [
    "!pip install sklearn"
   ]
  },
  {
   "cell_type": "code",
   "execution_count": 92,
   "metadata": {},
   "outputs": [],
   "source": [
    "from sklearn.linear_model import LinearRegression"
   ]
  },
  {
   "cell_type": "code",
   "execution_count": 93,
   "metadata": {},
   "outputs": [],
   "source": [
    "lr = LinearRegression?"
   ]
  },
  {
   "cell_type": "code",
   "execution_count": 105,
   "metadata": {},
   "outputs": [],
   "source": [
    "lr = LinearRegression()"
   ]
  },
  {
   "cell_type": "code",
   "execution_count": 106,
   "metadata": {},
   "outputs": [
    {
     "data": {
      "text/plain": [
       "LinearRegression(copy_X=True, fit_intercept=True, n_jobs=None, normalize=False)"
      ]
     },
     "execution_count": 106,
     "metadata": {},
     "output_type": "execute_result"
    }
   ],
   "source": [
    "lr.fit(X,Y)"
   ]
  },
  {
   "cell_type": "code",
   "execution_count": 108,
   "metadata": {},
   "outputs": [
    {
     "data": {
      "text/plain": [
       "array([5.01584568])"
      ]
     },
     "execution_count": 108,
     "metadata": {},
     "output_type": "execute_result"
    }
   ],
   "source": [
    "lr.intercept_"
   ]
  },
  {
   "cell_type": "code",
   "execution_count": 107,
   "metadata": {},
   "outputs": [
    {
     "data": {
      "text/plain": [
       "array([[1.98383074]])"
      ]
     },
     "execution_count": 107,
     "metadata": {},
     "output_type": "execute_result"
    }
   ],
   "source": [
    "lr.coef_"
   ]
  },
  {
   "cell_type": "code",
   "execution_count": 96,
   "metadata": {},
   "outputs": [
    {
     "data": {
      "text/plain": [
       "array([ 0.27062757,  6.72126772,  1.17960918,  2.67643543,  5.57095943,\n",
       "        5.21915465,  3.92382967,  6.64251675,  6.41388338,  0.8537459 ,\n",
       "        3.55337607,  7.18014653,  0.68842121,  2.18751782,  2.29869944,\n",
       "        7.84317674,  5.13234661,  9.3238876 ,  4.84321122,  7.73247225,\n",
       "        4.71682882,  4.2840804 ,  5.46892403,  5.91959772,  5.8734817 ,\n",
       "        7.44221314,  4.21463676,  3.63643043,  7.16432069, 10.82205219,\n",
       "        6.67096989,  4.44207561,  6.44179282,  2.44342288,  3.89604989,\n",
       "        2.39798031,  2.20394656,  6.26722752,  9.42490494,  9.12108936,\n",
       "        5.19437526,  7.14026687,  3.71277864,  3.14385771,  7.42410946,\n",
       "        7.1494621 ,  6.01298523,  2.83330599,  2.82393639,  6.71157181,\n",
       "        4.17341821,  4.71024045,  5.91147261,  4.70025235,  5.77926107,\n",
       "        2.35622121,  6.36379326, -0.11757085,  6.98462021,  4.25880542,\n",
       "        5.82190272,  4.18773148,  5.00420762,  7.012141  ,  6.47819133,\n",
       "        6.84959954,  8.33128222,  6.6996651 ,  7.24398331,  6.7750258 ,\n",
       "        4.24536469,  5.70628114,  5.09934672,  6.30795625,  5.38001741,\n",
       "        0.59112571,  3.78916263,  0.7423143 ,  3.05426567,  5.91783059,\n",
       "        5.70382083,  3.85667924,  5.77091779,  0.60344735,  4.93574971,\n",
       "        5.77259397,  0.95715145,  7.18610275,  4.90306637,  4.78198512,\n",
       "        5.88512341,  3.74697743,  6.75406295,  9.31410106,  8.05851376,\n",
       "        5.71037972,  2.68481823,  6.41212198,  4.32982044,  3.98479396])"
      ]
     },
     "execution_count": 96,
     "metadata": {},
     "output_type": "execute_result"
    }
   ],
   "source": [
    "lr.predict(X) "
   ]
  },
  {
   "cell_type": "code",
   "execution_count": 109,
   "metadata": {},
   "outputs": [
    {
     "data": {
      "text/plain": [
       "0.981065158935693"
      ]
     },
     "execution_count": 109,
     "metadata": {},
     "output_type": "execute_result"
    }
   ],
   "source": [
    "lr.score(X,Y)"
   ]
  },
  {
   "cell_type": "code",
   "execution_count": null,
   "metadata": {},
   "outputs": [],
   "source": []
  }
 ],
 "metadata": {
  "kernelspec": {
   "display_name": "Python 3",
   "language": "python",
   "name": "python3"
  },
  "language_info": {
   "codemirror_mode": {
    "name": "ipython",
    "version": 3
   },
   "file_extension": ".py",
   "mimetype": "text/x-python",
   "name": "python",
   "nbconvert_exporter": "python",
   "pygments_lexer": "ipython3",
   "version": "3.7.3"
  }
 },
 "nbformat": 4,
 "nbformat_minor": 2
}
